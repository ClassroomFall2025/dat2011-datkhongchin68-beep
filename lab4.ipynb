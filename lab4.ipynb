{
 "cells": [
  {
   "cell_type": "markdown",
   "id": "fdeff819",
   "metadata": {},
   "source": [
    "# Sinh Viên thực hiện Lab 4 ở Đây"
   ]
  },
  {
   "cell_type": "markdown",
   "id": "acc5d7dc",
   "metadata": {},
   "source": [
    "## Lab 1 - Bài 1"
   ]
  },
  {
   "cell_type": "code",
   "execution_count": 3,
   "id": "001e0507",
   "metadata": {},
   "outputs": [
    {
     "name": "stdout",
     "output_type": "stream",
     "text": [
      " Chuong trinh tinh tien nuoc sinh hoat \n",
      "số tiền nước phải trả trong tháng là: 7500.0 VND\n"
     ]
    }
   ],
   "source": [
    "# Code lab 4 bài 1 ở đây\n",
    "def tinh_tien_nuoc(so_nuoc):\n",
    "    gia_ban_nuoc = (7500, 8800, 12000, 24000)\n",
    "    if so_nuoc <= 10 and so_nuoc >= 0:\n",
    "        tien_nuoc_thang = so_nuoc * gia_ban_nuoc[0]\n",
    "    elif so_nuoc <= 20:\n",
    "        tien_nuoc_thang = (10 * gia_ban_nuoc[0]) + (so_nuoc - 10) * gia_ban_nuoc[1]\n",
    "    elif so_nuoc <= 30:\n",
    "        tien_nuoc_thang = (10 * gia_ban_nuoc[0]) + (10 * gia_ban_nuoc[1]) + (so_nuoc - 20) * gia_ban_nuoc[2]\n",
    "    else:\n",
    "        tien_nuoc_thang = (10 * gia_ban_nuoc[0]) + (10 * gia_ban_nuoc[1]) + (10 * gia_ban_nuoc[2]) + (so_nuoc - 30) * gia_ban_nuoc[3]\n",
    "    return tien_nuoc_thang\n",
    "print(\" Chuong trinh tinh tien nuoc sinh hoat \")\n",
    "so_nuoc = float(input(\" Nhap so nuoc tieu thu trong thang: \"))\n",
    "tien_nuoc =  tinh_tien_nuoc(so_nuoc)\n",
    "print(f\"số tiền nước phải trả trong tháng là: {tien_nuoc} VND\")"
   ]
  },
  {
   "cell_type": "markdown",
   "id": "c0835310",
   "metadata": {},
   "source": [
    "## Lab 4 - Bài 2"
   ]
  },
  {
   "cell_type": "code",
   "execution_count": 4,
   "id": "fa9cb39f",
   "metadata": {},
   "outputs": [],
   "source": [
    "# Code lab 4  bài 2 ở đây\n",
    "def tinh_nguyen_lieu(sl_bdx, sl_btc, sl_bd):\n",
    "    banh_dau_xanh = {\"đường\":0.04,\"đậu\":0.07}\n",
    "    banh_thap_cam = {\"đường\":0.06,\"đậu\":0}\n",
    "    banh_deo = {\"đường\":0.05,\"đậu\":0.02}\n",
    "\n",
    "    duong_lam_banh = sl_bdx*banh_dau_xanh[\"đường\"] + sl_btc*banh_thap_cam[\"đường\"] + sl_bd*banh_deo[\"đường\"]\n",
    "    dau_lam_banh = sl_bdx*banh_dau_xanh[\"đậu\"] + sl_btc*banh_thap_cam[\"đậu\"] + sl_bd*banh_deo[\"đậu\"]\n",
    "    return duong_lam_banh, dau_lam_banh \n",
    "\n"
   ]
  },
  {
   "cell_type": "markdown",
   "id": "0f2483fe",
   "metadata": {},
   "source": [
    "## Lab 4 - Bài 3"
   ]
  },
  {
   "cell_type": "code",
   "execution_count": 5,
   "id": "7034990b",
   "metadata": {},
   "outputs": [
    {
     "name": "stdout",
     "output_type": "stream",
     "text": [
      "Các số chẵn là: []\n",
      "Các số lẻ là: [233]\n"
     ]
    }
   ],
   "source": [
    "# Code lab 4  bài 3 ở đây\n",
    "try:\n",
    "    # nhập dãy số nguyên từ bàn phím\n",
    "    Nhap_so_nguyen = input(\"Nhập dãy số nguyên, cách nhau bởi dấu phẩy: \")\n",
    "    # chuyển thành các danh sách số nguyên\n",
    "    Danh_sach_so_nguyen = [int(x) for x in Nhap_so_nguyen.split(\",\")]\n",
    "    \n",
    "    # sử dụng hàm filter và lambda để lọc các số chẵn\n",
    "    So_chan = list(filter(lambda x: x % 2 == 0, Danh_sach_so_nguyen))\n",
    "    \n",
    "    # sử dụng hàm filter và lambda để lọc các số lẻ\n",
    "    So_le = list(filter(lambda x: x % 2 != 0, Danh_sach_so_nguyen))\n",
    "    \n",
    "    print(\"Các số chẵn là:\", So_chan)\n",
    "    print(\"Các số lẻ là:\", So_le)\n",
    "\n",
    "except ValueError:\n",
    "    print(\"Vui lòng nhập đúng định dạng dãy số nguyên, cách nhau bởi dấu phẩy.\")\n",
    "    print(\"Lỗi: bạn phải nhập số nguyên!\")\n"
   ]
  },
  {
   "cell_type": "markdown",
   "id": "d36ea3d3",
   "metadata": {},
   "source": [
    "## Lab 4 - Bài 4"
   ]
  },
  {
   "cell_type": "code",
   "execution_count": 13,
   "id": "4c707ec1",
   "metadata": {},
   "outputs": [
    {
     "name": "stdout",
     "output_type": "stream",
     "text": [
      "-----------------------\n",
      "1 : Tính tiền nước sinh hoạt\n",
      "2 : Tính nguyên liệu làm bánh\n",
      "3 : Kết Thúc\n",
      "chọn chức năng chương trình\n",
      "số tiền thanh toán cho tiền nước 5754.0 là: 137659000.0 VND\n",
      "-----------------------\n",
      "1 : Tính tiền nước sinh hoạt\n",
      "2 : Tính nguyên liệu làm bánh\n",
      "3 : Kết Thúc\n",
      "chọn chức năng chương trình\n",
      "-----------------------\n",
      "1 : Tính tiền nước sinh hoạt\n",
      "2 : Tính nguyên liệu làm bánh\n",
      "3 : Kết Thúc\n",
      "chọn chức năng chương trình\n",
      "-----------------------\n",
      "1 : Tính tiền nước sinh hoạt\n",
      "2 : Tính nguyên liệu làm bánh\n",
      "3 : Kết Thúc\n",
      "chọn chức năng chương trình\n",
      "kết thúc chương trình\n"
     ]
    }
   ],
   "source": [
    "# code lab 4 bài 4 ở đây\n",
    "import lab4_module\n",
    "Menu ={\n",
    "        \"1\": \"Tính tiền nước sinh hoạt\",\n",
    "        \"2\": \"Tính nguyên liệu làm bánh\",\n",
    "        \"3\": \"Kết Thúc\"\n",
    "}\n",
    "while True: \n",
    "    print(\"-----------------------\")\n",
    "    for k ,v in Menu.items():\n",
    "        print(f\"{k} : {v}\")\n",
    "    print(\"chọn chức năng chương trình\")\n",
    "    lua_Chon = input(\"Bạn chọn chức năng :\")\n",
    "    if lua_Chon == \"3\":\n",
    "        print(\"kết thúc chương trình\")\n",
    "        break\n",
    "    elif lua_Chon == \"1\":\n",
    "        so_nuoc = float(input(\"nhập số nước: \"))\n",
    "        print(f\"số tiền thanh toán cho tiền nước {so_nuoc} là:\" ,lab4_module.tinh_tien_nuoc(so_nuoc),\"VND\")\n",
    "    elif lua_Chon == \"2\":\n",
    "        sl_bdx = float(input(\"nhập số lượng bánh đậu xanh: \"))\n",
    "        sl_btc = float(input(\"nhập số lượng bánh thập cẩm: \"))\n",
    "        sl_bd = float(input(\"nhập số lượng bánh dẻo: \"))\n",
    "        print(\"nguyên liệu làm bánh\",lab4_module.tinh_nguyen_lieu(sl_bdx, sl_btc, sl_bd))"
   ]
  },
  {
   "cell_type": "markdown",
   "id": "e2b41d4a",
   "metadata": {},
   "source": [
    "## Lab 4 - Bài 5: bài tập làm thêm"
   ]
  },
  {
   "cell_type": "code",
   "execution_count": 10,
   "id": "0e0172f7",
   "metadata": {},
   "outputs": [
    {
     "name": "stdout",
     "output_type": "stream",
     "text": [
      "\n",
      "===== MENU =========\n",
      "1. Tính tiền nước sinh hoạt\n",
      "2. Tính nguyên liệu làm bánh\n",
      "3. Kết thúc\n",
      "Bạn đã chọn tính nguyên liệu làm bánh.\n",
      "Số đường cần dùng: 8748.64 kg\n",
      "Số đậu cần dùng: 14735.41 kg\n",
      "\n",
      "===== MENU =========\n",
      "1. Tính tiền nước sinh hoạt\n",
      "2. Tính nguyên liệu làm bánh\n",
      "3. Kết thúc\n",
      "Bạn đã chọn tính tiền nước sinh hoạt.\n",
      "Tiền nước tháng này là: 53,155,000 VND\n",
      "\n",
      "===== MENU =========\n",
      "1. Tính tiền nước sinh hoạt\n",
      "2. Tính nguyên liệu làm bánh\n",
      "3. Kết thúc\n",
      "Kết thúc chương trình.\n"
     ]
    }
   ],
   "source": [
    "# code lab 4  bài làm thêm ở đây \n",
    "menu = {\n",
    "    \"1\": \"Tính tiền nước sinh hoạt\",\n",
    "    \"2\": \"Tính nguyên liệu làm bánh\",\n",
    "    \"3\": \"Kết thúc\"\n",
    "}\n",
    "\n",
    "def tinh_tien_nuoc(sonuoc):\n",
    "    gia_ban_nuoc = (7500, 8800, 12000, 24000)\n",
    "    if sonuoc <= 10:\n",
    "        tien_nuoc_thang = sonuoc * gia_ban_nuoc[0]\n",
    "    elif sonuoc <= 20:\n",
    "        tien_nuoc_thang = 10 * gia_ban_nuoc[0] + (sonuoc - 10) * gia_ban_nuoc[1]\n",
    "    elif sonuoc <= 30:\n",
    "        tien_nuoc_thang = 10 * gia_ban_nuoc[0] + 10 * gia_ban_nuoc[1] + (sonuoc - 20) * gia_ban_nuoc[2]\n",
    "    else:\n",
    "        tien_nuoc_thang = (\n",
    "            10 * gia_ban_nuoc[0] +\n",
    "            10 * gia_ban_nuoc[1] +\n",
    "            10 * gia_ban_nuoc[2] +\n",
    "            (sonuoc - 30) * gia_ban_nuoc[3]\n",
    "        )\n",
    "    return tien_nuoc_thang\n",
    "\n",
    "def tinh_nguyen_lieu(dauxanh, thapcam, bandheo):\n",
    "    dau_xanh = {\"duong\": 0.04, \"dau\": 0.07}\n",
    "    thap_cam = {\"duong\": 0.06, \"dau\": 0}\n",
    "    banh_deo = {\"duong\": 0.05, \"dau\": 0.02}\n",
    "    duong_lam_banh = (\n",
    "        dauxanh * dau_xanh[\"duong\"] + thapcam * thap_cam[\"duong\"] + bandheo * banh_deo[\"duong\"]\n",
    "    )\n",
    "    dau_lam_banh = (\n",
    "        dauxanh * dau_xanh[\"dau\"] + thapcam * thap_cam[\"dau\"] + bandheo * banh_deo[\"dau\"]\n",
    "    )\n",
    "    return {\"duong\": duong_lam_banh, \"dau\": dau_lam_banh}\n",
    "\n",
    "while True:\n",
    "    print(\"\\n===== MENU =========\")\n",
    "    for key, value in menu.items():\n",
    "        print(f\"{key}. {value}\")\n",
    "    choice = input(\"Chọn một mục (1-3): \")\n",
    "\n",
    "    if choice == \"1\":\n",
    "        print(\"Bạn đã chọn tính tiền nước sinh hoạt.\")\n",
    "        so_nuoc = int(input(\"Nhập số nước tiêu thụ trong tháng (m3): \"))\n",
    "        tien = tinh_tien_nuoc(so_nuoc)\n",
    "        print(f\"Tiền nước tháng này là: {tien:,} VND\")\n",
    "\n",
    "    elif choice == \"2\":\n",
    "        print(\"Bạn đã chọn tính nguyên liệu làm bánh.\")\n",
    "        s1 = int(input(\"Nhập số bánh đậu xanh: \"))\n",
    "        s2 = int(input(\"Nhập số bánh thập cẩm: \"))\n",
    "        s3 = int(input(\"Nhập số bánh dẻo: \"))\n",
    "        kq = tinh_nguyen_lieu(s1, s2, s3)\n",
    "        print(f\"Số đường cần dùng: {kq['duong']:.2f} kg\")\n",
    "        print(f\"Số đậu cần dùng: {kq['dau']:.2f} kg\")\n",
    "\n",
    "    elif choice == \"3\":\n",
    "        print(\"Kết thúc chương trình.\")\n",
    "        break\n",
    "\n",
    "    else:\n",
    "        print(\"Vui lòng chọn 1-3!\")"
   ]
  }
 ],
 "metadata": {
  "kernelspec": {
   "display_name": "Python 3",
   "language": "python",
   "name": "python3"
  },
  "language_info": {
   "codemirror_mode": {
    "name": "ipython",
    "version": 3
   },
   "file_extension": ".py",
   "mimetype": "text/x-python",
   "name": "python",
   "nbconvert_exporter": "python",
   "pygments_lexer": "ipython3",
   "version": "3.13.7"
  }
 },
 "nbformat": 4,
 "nbformat_minor": 5
}

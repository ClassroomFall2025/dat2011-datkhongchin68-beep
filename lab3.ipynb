{
 "cells": [
  {
   "cell_type": "markdown",
   "id": "fdeff819",
   "metadata": {},
   "source": [
    "# Sinh Viên thực hiện Lab 3 ở Đây"
   ]
  },
  {
   "cell_type": "markdown",
   "id": "acc5d7dc",
   "metadata": {},
   "source": [
    "## Lab 3 - Bài 1"
   ]
  },
  {
   "cell_type": "code",
   "execution_count": 4,
   "id": "001e0507",
   "metadata": {},
   "outputs": [
    {
     "ename": "ValueError",
     "evalue": "invalid literal for int() with base 10: 'a'",
     "output_type": "error",
     "traceback": [
      "\u001b[31m---------------------------------------------------------------------------\u001b[39m",
      "\u001b[31mValueError\u001b[39m                                Traceback (most recent call last)",
      "\u001b[36mCell\u001b[39m\u001b[36m \u001b[39m\u001b[32mIn[4]\u001b[39m\u001b[32m, line 3\u001b[39m\n\u001b[32m      1\u001b[39m \u001b[38;5;66;03m# Code lab 3 bài 1 ở đây\u001b[39;00m\n\u001b[32m      2\u001b[39m tong = \u001b[32m0\u001b[39m \n\u001b[32m----> \u001b[39m\u001b[32m3\u001b[39m n = \u001b[38;5;28;43mint\u001b[39;49m\u001b[43m(\u001b[49m\u001b[38;5;28;43minput\u001b[39;49m\u001b[43m(\u001b[49m\u001b[33;43m\"\u001b[39;49m\u001b[33;43mNhập n: \u001b[39;49m\u001b[33;43m\"\u001b[39;49m\u001b[43m)\u001b[49m\u001b[43m)\u001b[49m\n\u001b[32m      4\u001b[39m \u001b[38;5;28;01mwhile\u001b[39;00m n > \u001b[32m0\u001b[39m:\n\u001b[32m      5\u001b[39m     tong += n\n",
      "\u001b[31mValueError\u001b[39m: invalid literal for int() with base 10: 'a'"
     ]
    }
   ],
   "source": [
    "# Code lab 3 bài 1 ở đây\n",
    "tong = 0 \n",
    "n = int(input(\"Nhập n: \"))\n",
    "while n > 0:\n",
    "    tong += n\n",
    "    n -= 1\n",
    "print(\"Tổng =\", tong)"
   ]
  },
  {
   "cell_type": "code",
   "execution_count": null,
   "id": "549c53e2",
   "metadata": {},
   "outputs": [
    {
     "name": "stdout",
     "output_type": "stream",
     "text": [
      "Vui lòng nhập lại số hoặc e để thoát\n",
      "Thoát chương trình\n",
      "Dãy số hiện tại: [14, 10, 2]\n",
      "Dãy số sau khi sắp xếp: [2, 10, 14]\n",
      "Dãy số sau khi sắp xếp ngược: [14, 10, 2]\n",
      "Số lớn nhất trong dãy số là: 14\n",
      "Số nhỏ nhất trong dãy số là: 2\n",
      "Tổng các số chia hết cho 3 là: 0\n",
      "Trung bình các số chia hết cho 3 là: 0\n"
     ]
    }
   ],
   "source": [
    "dãy_số = []\n",
    "while True:\n",
    "    số = input('Nhập số: ')\n",
    "    if số == 'e':\n",
    "        print('Thoát chương trình')\n",
    "        break\n",
    "    else:\n",
    "        try:\n",
    "            phần_tử = int(số)\n",
    "            dãy_số.append(phần_tử)\n",
    "        except ValueError:\n",
    "            print('Vui lòng nhập lại số hoặc e để thoát')\n",
    "            continue\n",
    "print('Dãy số hiện tại:', dãy_số)\n",
    "# Dãy số tăng dần\n",
    "dãy_số.sort()\n",
    "print('Dãy số sau khi sắp xếp:', dãy_số)\n",
    "# Dãy số giảm dần\n",
    "dãy_số.sort(reverse=True)\n",
    "print('Dãy số sau khi sắp xếp ngược:', dãy_số)\n",
    "# Tìm số lớn nhất và nhỏ nhất trong dãy số\n",
    "dãy_số_max = max(dãy_số)\n",
    "dãy_số_min = min(dãy_số)\n",
    "print('Số lớn nhất trong dãy số là:', dãy_số_max)\n",
    "print('Số nhỏ nhất trong dãy số là:', dãy_số_min)\n",
    "Tổng = 0\n",
    "dem = 0\n",
    "for phần_tử in dãy_số:\n",
    "    if phần_tử % 3 == 0:\n",
    "        Tổng += phần_tử\n",
    "        dem += 1\n",
    "print(f'Tổng các số chia hết cho 3 là: {Tổng}')\n",
    "if dem > 0:\n",
    "    kết_quả = Tổng / dem\n",
    "else:\n",
    "    kết_quả = 0\n",
    "print(f'Trung bình các số chia hết cho 3 là: {kết_quả}')\n"
   ]
  },
  {
   "cell_type": "code",
   "execution_count": null,
   "id": "0a94d886",
   "metadata": {},
   "outputs": [
    {
     "name": "stdout",
     "output_type": "stream",
     "text": [
      "1\n",
      "2\n",
      "4\n",
      "5\n",
      "7\n",
      "8\n",
      "10\n"
     ]
    }
   ],
   "source": [
    "x = 0\n",
    "while x <= 10:\n",
    "    if x % 3 == 0:\n",
    "        x += 1\n",
    "        continue\n",
    "    print(x)\n",
    "    x += 1"
   ]
  },
  {
   "cell_type": "code",
   "execution_count": null,
   "id": "1ac9937a",
   "metadata": {},
   "outputs": [],
   "source": []
  },
  {
   "cell_type": "markdown",
   "id": "c0835310",
   "metadata": {},
   "source": [
    "## Lab 3 - Bài 2"
   ]
  },
  {
   "cell_type": "code",
   "execution_count": 6,
   "id": "fa9cb39f",
   "metadata": {},
   "outputs": [
    {
     "name": "stdout",
     "output_type": "stream",
     "text": [
      "Vui lòng nhập thông tin sinh viên theo định dạng : Tên sinh viên, điểm sinh viên\n",
      "Thoát chương trình.\n",
      "Danh sách sinh viên:\n",
      "Tên: Tùng , Điểm: 2.0, Loại: Yếu\n"
     ]
    }
   ],
   "source": [
    "# Code lab 3  bài 2 ở đây\n",
    "student_dict = {}\n",
    "print(\"Vui lòng nhập thông tin sinh viên theo định dạng : Tên sinh viên, điểm sinh viên\")\n",
    "while True:\n",
    "    ten_sv = input(\"Nhập tên sinh viên (hoặc 'e' để thoát): \")\n",
    "    if ten_sv.lower() == 'e':\n",
    "        print(\"Thoát chương trình.\")\n",
    "        break\n",
    "    diem_sv = float(input(\"Nhập điểm sinh viên: \"))\n",
    "    if diem_sv >= 9 and diem_sv <= 10:\n",
    "        loai = \"Xuat sắc\"\n",
    "    elif diem_sv >= 8:\n",
    "        loai = \"Giỏi\"\n",
    "    elif diem_sv >= 7:\n",
    "        loai = \"Khá\"\n",
    "    elif diem_sv >= 5:\n",
    "        loai = \"Trung bình\"\n",
    "    else:\n",
    "        loai = \"Yếu\"\n",
    "    student_dict[ten_sv] = (diem_sv, loai)\n",
    "print(\"Danh sách sinh viên:\")\n",
    "for ten_sv, (diem_sv, loai) in student_dict.items():\n",
    "    print(f\"Tên: {ten_sv}, Điểm: {diem_sv}, Loại: {loai}\")"
   ]
  },
  {
   "cell_type": "markdown",
   "id": "0f2483fe",
   "metadata": {},
   "source": [
    "## Lab 3 - Bài 3"
   ]
  },
  {
   "cell_type": "code",
   "execution_count": 1,
   "id": "7034990b",
   "metadata": {},
   "outputs": [
    {
     "name": "stdout",
     "output_type": "stream",
     "text": [
      "4 không phải là số nguyên tố\n",
      "\n",
      "5 là số nguyên tố\n",
      "\n",
      "12 không phải là số nguyên tố\n",
      "\n",
      "5 là số nguyên tố\n",
      "\n",
      "123 không phải là số nguyên tố\n",
      "\n",
      "Thoát chương trình.\n"
     ]
    }
   ],
   "source": [
    "# Code lab 3  bài 3 ở đây\n",
    "while True:\n",
    "    n = input(\"Nhập số nguyên dương n: \")\n",
    "    if n.lower() == 'q':\n",
    "        print(\"Thoát chương trình.\")\n",
    "        break\n",
    "    \n",
    "    \n",
    "    try:\n",
    "        n = int(n)\n",
    "    except ValueError:\n",
    "        print(\"Vui lòng nhập một số nguyên dương hợp lệ.\")\n",
    "        continue\n",
    "    ok = True\n",
    "    i = 2 \n",
    "    while i < (n - 1):\n",
    "        if n % i == 0:\n",
    "            ok = False\n",
    "            break \n",
    "        i += 1\n",
    "        \n",
    "    if ok and n > 1:\n",
    "        print(f\"{n} là số nguyên tố\\n\")\n",
    "    else: \n",
    "        print(f\"{n} không phải là số nguyên tố\\n\")\n",
    "    "
   ]
  },
  {
   "cell_type": "markdown",
   "id": "d36ea3d3",
   "metadata": {},
   "source": [
    "## Lab 3 - Bài 4"
   ]
  },
  {
   "cell_type": "code",
   "execution_count": 5,
   "id": "4c707ec1",
   "metadata": {},
   "outputs": [
    {
     "name": "stdout",
     "output_type": "stream",
     "text": [
      " In toàn bộ bảng cửu chương từ 1 đến 10\n",
      "1 x 1 = 1\t1 x 2 = 2\t1 x 3 = 3\t1 x 4 = 4\t1 x 5 = 5\t1 x 6 = 6\t1 x 7 = 7\t1 x 8 = 8\t1 x 9 = 9\t1 x 10 = 10\t2 x 1 = 2\t2 x 2 = 4\t2 x 3 = 6\t2 x 4 = 8\t2 x 5 = 10\t2 x 6 = 12\t2 x 7 = 14\t2 x 8 = 16\t2 x 9 = 18\t2 x 10 = 20\t3 x 1 = 3\t3 x 2 = 6\t3 x 3 = 9\t3 x 4 = 12\t3 x 5 = 15\t3 x 6 = 18\t3 x 7 = 21\t3 x 8 = 24\t3 x 9 = 27\t3 x 10 = 30\t4 x 1 = 4\t4 x 2 = 8\t4 x 3 = 12\t4 x 4 = 16\t4 x 5 = 20\t4 x 6 = 24\t4 x 7 = 28\t4 x 8 = 32\t4 x 9 = 36\t4 x 10 = 40\t5 x 1 = 5\t5 x 2 = 10\t5 x 3 = 15\t5 x 4 = 20\t5 x 5 = 25\t5 x 6 = 30\t5 x 7 = 35\t5 x 8 = 40\t5 x 9 = 45\t5 x 10 = 50\t6 x 1 = 6\t6 x 2 = 12\t6 x 3 = 18\t6 x 4 = 24\t6 x 5 = 30\t6 x 6 = 36\t6 x 7 = 42\t6 x 8 = 48\t6 x 9 = 54\t6 x 10 = 60\t7 x 1 = 7\t7 x 2 = 14\t7 x 3 = 21\t7 x 4 = 28\t7 x 5 = 35\t7 x 6 = 42\t7 x 7 = 49\t7 x 8 = 56\t7 x 9 = 63\t7 x 10 = 70\t8 x 1 = 8\t8 x 2 = 16\t8 x 3 = 24\t8 x 4 = 32\t8 x 5 = 40\t8 x 6 = 48\t8 x 7 = 56\t8 x 8 = 64\t8 x 9 = 72\t8 x 10 = 80\t9 x 1 = 9\t9 x 2 = 18\t9 x 3 = 27\t9 x 4 = 36\t9 x 5 = 45\t9 x 6 = 54\t9 x 7 = 63\t9 x 8 = 72\t9 x 9 = 81\t9 x 10 = 90\t10 x 1 = 10\t10 x 2 = 20\t10 x 3 = 30\t10 x 4 = 40\t10 x 5 = 50\t10 x 6 = 60\t10 x 7 = 70\t10 x 8 = 80\t10 x 9 = 90\t10 x 10 = 100\t\n"
     ]
    }
   ],
   "source": [
    "# code lab 3 bài 4 ở đây\n",
    "import math\n",
    "print(\" In toàn bộ bảng cửu chương từ 1 đến 10\")\n",
    "for n in range(1, 11):\n",
    "    for i in range (1, 11):\n",
    "        print(f\"{n} x {i} = {n * i}\", end= '\\t' )\n",
    "print()"
   ]
  },
  {
   "cell_type": "markdown",
   "id": "e2b41d4a",
   "metadata": {},
   "source": [
    "## Lab 3 - Bài 5: bài tập làm thêm"
   ]
  },
  {
   "cell_type": "code",
   "execution_count": 6,
   "id": "0e0172f7",
   "metadata": {},
   "outputs": [
    {
     "name": "stdout",
     "output_type": "stream",
     "text": [
      "Bạn chọn Phở\n"
     ]
    }
   ],
   "source": [
    "# code lab 3  bài làm thêm ở đây \n",
    "# Menu 1 \n",
    "lua_chon = input(\"Mời bạn chọn món ăn 1 trong 3 món ăn:\\n 1. Phở\\n 2. Bún chả\\n3. Bún bò \\n Lựa chọn của bạn là: \")\n",
    "\n",
    "match lua_chon:\n",
    "    case '1':\n",
    "        print(\"Bạn chọn Phở\")\n",
    "    case '2':\n",
    "        print(\"Bạn chọn Bún chả\")\n",
    "    case '3':\n",
    "        print(\"Bạn chọn Bún bò\")\n",
    "    case _:\n",
    "        print(\"Không có món ăn này\")"
   ]
  },
  {
   "cell_type": "code",
   "execution_count": 4,
   "id": "b035d7ad",
   "metadata": {},
   "outputs": [
    {
     "name": "stdout",
     "output_type": "stream",
     "text": [
      "\n",
      "      \n",
      "        1. Phep tinh co ban: Cong, tru, nhan, chia\n",
      "        2. Luy thua: Tinh x^y\n",
      "        3. Can bac hai: Tinh √x\n",
      "        4. Ham luong giac: Sin, cos, tan\n",
      "        5. Logarit: Log co so 10, ln, log co so tuy chon\n",
      "        6. Giai phuong trinh bac nhat\n",
      "        7. Giai phuong trinh bac 2\n",
      "        8. Lich su: Luu va xem lai cac phep tinh da thuc hien\n",
      "        9. Thoi gian: Hien thi thoi gian hien tai\n",
      "        10. Giao dien than thien: Menu de su dung bang tieng Viet\n",
      "Luy thua: Tinh x^y\n",
      "\n",
      "      \n",
      "        1. Phep tinh co ban: Cong, tru, nhan, chia\n",
      "        2. Luy thua: Tinh x^y\n",
      "        3. Can bac hai: Tinh √x\n",
      "        4. Ham luong giac: Sin, cos, tan\n",
      "        5. Logarit: Log co so 10, ln, log co so tuy chon\n",
      "        6. Giai phuong trinh bac nhat\n",
      "        7. Giai phuong trinh bac 2\n",
      "        8. Lich su: Luu va xem lai cac phep tinh da thuc hien\n",
      "        9. Thoi gian: Hien thi thoi gian hien tai\n",
      "        10. Giao dien than thien: Menu de su dung bang tieng Viet\n",
      "Thoát chương trình\n"
     ]
    }
   ],
   "source": [
    "Menu = \"\"\"\\n      \n",
    "        1. Phep tinh co ban: Cong, tru, nhan, chia\n",
    "        2. Luy thua: Tinh x^y\n",
    "        3. Can bac hai: Tinh √x\n",
    "        4. Ham luong giac: Sin, cos, tan\n",
    "        5. Logarit: Log co so 10, ln, log co so tuy chon\n",
    "        6. Giai phuong trinh bac nhat\n",
    "        7. Giai phuong trinh bac 2\n",
    "        8. Lich su: Luu va xem lai cac phep tinh da thuc hien\n",
    "        9. Thoi gian: Hien thi thoi gian hien tai\n",
    "        10. Giao dien than thien: Menu de su dung bang tieng Viet\"\"\"\n",
    "while True:\n",
    "    print(Menu)\n",
    "    lua_chon = input(\"Nhập lựa chọn của bạn (1-10) hoặc 'q' để thoát: \")\n",
    "    match lua_chon:\n",
    "        case 'q':\n",
    "            print(\"Thoát chương trình\")\n",
    "            break\n",
    "        case \"1\":\n",
    "            print(\" Phep tinh co ban: Cong, tru, nhan, chia\")\n",
    "        case \"2\":\n",
    "            print(\"Luy thua: Tinh x^y\")\n",
    "        case \"3\":\n",
    "            print(\"Can bac hai: Tinh √x\")\n",
    "        case \"4\":\n",
    "            print(\"Ham luong giac: Sin, cos, tan\")\n",
    "        case \"5\":\n",
    "            print(\"Logarit: Log co so 10, ln, log co so tuy chon\")\n",
    "        case \"6\":\n",
    "            print(\" Giai phuong trinh bac nhat\")\n",
    "        case \"7\":\n",
    "            print(\"Giai phuong trinh bac 2\")\n",
    "        case \"8\":\n",
    "            print(\"Lich su: Luu va xem lai cac phep tinh da thuc hien\")\n",
    "        case \"9\":\n",
    "            print(\"Thoi gian: Hien thi thoi gian hien tai\")\n",
    "        case \"10\":\n",
    "            print(\"Giao dien than thien: Menu de su dung bang tieng Viet\")"
   ]
  },
  {
   "cell_type": "code",
   "execution_count": 9,
   "id": "9741462e",
   "metadata": {},
   "outputs": [
    {
     "name": "stdout",
     "output_type": "stream",
     "text": [
      "hello\n",
      "hello\n"
     ]
    }
   ],
   "source": [
    "my_list = [1,2,5,\"hello\", [4,5]]\n",
    "print(my_list[3])\n",
    "print(my_list[-2])"
   ]
  },
  {
   "cell_type": "code",
   "execution_count": null,
   "id": "c88ceabf",
   "metadata": {},
   "outputs": [],
   "source": [
    "# khỏi tạo danh sách rông\n",
    "my_list = []\n",
    "print(my_list)"
   ]
  },
  {
   "cell_type": "code",
   "execution_count": 10,
   "id": "2c395105",
   "metadata": {},
   "outputs": [
    {
     "name": "stdout",
     "output_type": "stream",
     "text": [
      "1\n",
      "2\n",
      "3\n",
      "4\n",
      "5\n",
      "python\n",
      "[3, 4]\n",
      "(2+3j)\n"
     ]
    }
   ],
   "source": [
    "my_list = [1,2,3,4,5,\"python\",[3,4],2+3j]\n",
    "for item in my_list:\n",
    "    print(item)"
   ]
  },
  {
   "cell_type": "code",
   "execution_count": 11,
   "id": "ecb94e2b",
   "metadata": {},
   "outputs": [
    {
     "name": "stdout",
     "output_type": "stream",
     "text": [
      "(0, 1)\n",
      "(1, 2)\n",
      "(2, 3)\n",
      "(3, 4)\n",
      "(4, 5)\n",
      "(5, 'python')\n",
      "(6, [3, 4])\n",
      "(7, (2+3j))\n"
     ]
    }
   ],
   "source": [
    "my_list = [1,2,3,4,5,\"python\",[3,4],2+3j]\n",
    "for items in enumerate(my_list):\n",
    "    print(items)"
   ]
  },
  {
   "cell_type": "code",
   "execution_count": 21,
   "id": "8a275e42",
   "metadata": {},
   "outputs": [
    {
     "name": "stdout",
     "output_type": "stream",
     "text": [
      "[4, 5, 'python']\n"
     ]
    }
   ],
   "source": [
    "my_list = [1,2,3,4,5,\"python\",[3,4],2+3j]\n",
    "sub_list = my_list[3:6]\n",
    "print(sub_list)"
   ]
  },
  {
   "cell_type": "code",
   "execution_count": 34,
   "id": "060258c2",
   "metadata": {},
   "outputs": [
    {
     "name": "stdout",
     "output_type": "stream",
     "text": [
      "[4, 5, 'python']\n"
     ]
    }
   ],
   "source": [
    "my_list = [1,2,3,4,5,\"python\",[3,4],2+3j]\n",
    "sub_list = my_list[3:6]\n",
    "print(sub_list)"
   ]
  },
  {
   "cell_type": "code",
   "execution_count": 35,
   "id": "8582f4d1",
   "metadata": {},
   "outputs": [
    {
     "name": "stdout",
     "output_type": "stream",
     "text": [
      "8\n"
     ]
    }
   ],
   "source": [
    "my_list = [1,2,3,4,5,\"python\",[3,4],2+3j]\n",
    "len_list = len(my_list)\n",
    "print(len_list)"
   ]
  }
 ],
 "metadata": {
  "kernelspec": {
   "display_name": "Python 3",
   "language": "python",
   "name": "python3"
  },
  "language_info": {
   "codemirror_mode": {
    "name": "ipython",
    "version": 3
   },
   "file_extension": ".py",
   "mimetype": "text/x-python",
   "name": "python",
   "nbconvert_exporter": "python",
   "pygments_lexer": "ipython3",
   "version": "3.13.7"
  }
 },
 "nbformat": 4,
 "nbformat_minor": 5
}

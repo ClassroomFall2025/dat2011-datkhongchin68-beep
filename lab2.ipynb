{
 "cells": [
  {
   "cell_type": "markdown",
   "id": "fdeff819",
   "metadata": {},
   "source": [
    "# Sinh Viên thực hiện Lab 2 ở Đây"
   ]
  },
  {
   "cell_type": "markdown",
   "id": "acc5d7dc",
   "metadata": {},
   "source": [
    "## Lab 2 - Bài 1"
   ]
  },
  {
   "cell_type": "code",
   "execution_count": null,
   "id": "001e0507",
   "metadata": {},
   "outputs": [
    {
     "name": "stdout",
     "output_type": "stream",
     "text": [
      "Kiếp con người mỏng manh như là gió\n",
      "Sống trên đời có được mấy lần vui \n",
      "Sao phải đau mà không thể mỉm cười \n",
      "Gắng buông nỗi ngậm ngùi nơi quá khứ \n",
      "\n",
      "Nếu có thể sao ta không làm thử \n",
      "Để tâm hồn khắc hai chữ bình an \n",
      "Cho đôi chân bước thanh thản nhẹ nhàng\n",
      "Dù hướng đời có muôn ngàn đá sỏi\n",
      "từ con người trong bài thơ: True\n",
      "từ tìm kiếm: con người\n"
     ]
    }
   ],
   "source": [
    "BaiTho='''Kiếp con người mỏng manh như là gió\n",
    "Sống trên đời có được mấy lần vui \n",
    "Sao phải đau mà không thể mỉm cười \n",
    "Gắng buông nỗi ngậm ngùi nơi quá khứ \n",
    "\n",
    "Nếu có thể sao ta không làm thử \n",
    "Để tâm hồn khắc hai chữ bình an \n",
    "Cho đôi chân bước thanh thản nhẹ nhàng\n",
    "Dù hướng đời có muôn ngàn đá sỏi'''\n",
    "print(BaiTho)\n",
    "#tim_kiem= \"con người\"in BaiTho\n",
    "#print(\"từ con người trong bài thơ:\",tim_kiem)\n",
    "#index = BaiTho.find(\"con người\")\n",
    "#index2= index + len(\"con người\") \n",
    "#tu_tim_kiem= BaiTho[index:index2]\n",
    "#print(\"từ tìm kiếm:\",tu_tim_kiem)"
   ]
  },
  {
   "cell_type": "markdown",
   "id": "c0835310",
   "metadata": {},
   "source": [
    "## Lab 2 - Bài 2"
   ]
  },
  {
   "cell_type": "code",
   "execution_count": 1,
   "id": "fa9cb39f",
   "metadata": {},
   "outputs": [
    {
     "name": "stdout",
     "output_type": "stream",
     "text": [
      "...Kiếp con người mỏng manh như là gió\n",
      "Sống trên đời có được mấy lần vui \n",
      "Sao phải đau mà không thể mỉm cười \n",
      "Gắng buông nỗi ngậm ngùi nơi quá khứ \n",
      "\n",
      "Nếu có thể sao ta không làm thử \n",
      "Để tâm hồn khắc hai chữ hạnh phúc \n",
      "Cho đôi chân bước thanh thản nhẹ nhàng\n",
      "Dù hướng đời có muôn ngàn đá sỏi...\n"
     ]
    }
   ],
   "source": [
    "# Code lab 2  bài 2 ở đây\n",
    "BaiTho='''Kiếp con người mỏng manh như là gió\n",
    "Sống trên đời có được mấy lần vui \n",
    "Sao phải đau mà không thể mỉm cười \n",
    "Gắng buông nỗi ngậm ngùi nơi quá khứ \n",
    "\n",
    "Nếu có thể sao ta không làm thử \n",
    "Để tâm hồn khắc hai chữ bình an \n",
    "Cho đôi chân bước thanh thản nhẹ nhàng\n",
    "Dù hướng đời có muôn ngàn đá sỏi'''\n",
    "BaiTho=BaiTho.replace(\"bình an\",\"hạnh phúc\")\n",
    "BaiTho = \"...\" + BaiTho.strip() + \"...\"\n",
    "print(BaiTho)"
   ]
  },
  {
   "cell_type": "markdown",
   "id": "0f2483fe",
   "metadata": {},
   "source": [
    "## Lab 2 - Bài 3"
   ]
  },
  {
   "cell_type": "code",
   "execution_count": null,
   "id": "7034990b",
   "metadata": {},
   "outputs": [],
   "source": [
    "# Code lab 2  bài 3 ở đây\n",
    "a = float(input(\"Nhập vào số a: \"))\n",
    "b = float(input(\"Nhập vào số b: \"))\n",
    "if a==0:\n",
    "    if b==0\n",
    "        print(\"Phương trình vô số nghiệm\")\n",
    "    else:\n",
    "        print(\"Phương trình vô nghiệm\")\n",
    "else:\n",
    "        print(\"Phương trình có một nghiệm x =\", -b/a)"
   ]
  },
  {
   "cell_type": "markdown",
   "id": "d36ea3d3",
   "metadata": {},
   "source": [
    "## Lab 2 - Bài 4"
   ]
  },
  {
   "cell_type": "code",
   "execution_count": 3,
   "id": "4c707ec1",
   "metadata": {},
   "outputs": [
    {
     "name": "stdout",
     "output_type": "stream",
     "text": [
      "Phương trình bậc hai vô nghiệm\n"
     ]
    }
   ],
   "source": [
    "# code lab 2 bài 4 ở đây\n",
    "a= int(input(\"Nhập vào số a: \"))\n",
    "b= int(input(\"Nhập vào số b: \"))\n",
    "c= int(input(\"Nhập vào số c: \"))\n",
    "if a==0:\n",
    "    if  b==0:\n",
    "        if c==0:\n",
    "            print(\"Phương trình vô số nghiệm\")\n",
    "        else:\n",
    "            print(\"Phương trình vô nghiệm\")\n",
    "    else:\n",
    "        print(\"Phương trình có một nghiệm x =\", -c/b)\n",
    "else:\n",
    "    delta = b**2 - 4*a*c\n",
    "    if delta<0:\n",
    "        print(\"Phương trình bậc hai vô nghiệm\")\n",
    "    elif delta==0:\n",
    "        print(\"Phương trình bậc hai có nghiệm kép x1=x2 =\", -b/(2*a))\n",
    "    else:\n",
    "        print(\"Phương trình bậc hai có hai nghiệm phân biệt\")\n",
    "        print(\"x1 =\", (-b + delta**0.5)/(2*a))\n",
    "        print(\"x2 =\", (-b - delta**0.5)/(2*a))"
   ]
  },
  {
   "cell_type": "markdown",
   "id": "e2b41d4a",
   "metadata": {},
   "source": [
    "## Lab 2 - Bài 5: bài tập làm thêm"
   ]
  },
  {
   "cell_type": "code",
   "execution_count": null,
   "id": "0e0172f7",
   "metadata": {},
   "outputs": [],
   "source": [
    "# code lab 2  bài làm thêm ở đây "
   ]
  }
 ],
 "metadata": {
  "kernelspec": {
   "display_name": "Python 3",
   "language": "python",
   "name": "python3"
  },
  "language_info": {
   "codemirror_mode": {
    "name": "ipython",
    "version": 3
   },
   "file_extension": ".py",
   "mimetype": "text/x-python",
   "name": "python",
   "nbconvert_exporter": "python",
   "pygments_lexer": "ipython3",
   "version": "3.13.7"
  }
 },
 "nbformat": 4,
 "nbformat_minor": 5
}

{
 "cells": [
  {
   "cell_type": "markdown",
   "id": "fdeff819",
   "metadata": {},
   "source": [
    "# Sinh Viên thực hiện Lab 5 ở Đây"
   ]
  },
  {
   "cell_type": "markdown",
   "id": "acc5d7dc",
   "metadata": {},
   "source": [
    "## Lab 5 - Bài 1"
   ]
  },
  {
   "cell_type": "code",
   "execution_count": null,
   "id": "001e0507",
   "metadata": {},
   "outputs": [],
   "source": []
  },
  {
   "cell_type": "markdown",
   "id": "c0835310",
   "metadata": {},
   "source": [
    "## Lab 5 - Bài 2"
   ]
  },
  {
   "cell_type": "code",
   "execution_count": 1,
   "id": "fa9cb39f",
   "metadata": {},
   "outputs": [
    {
     "name": "stdout",
     "output_type": "stream",
     "text": [
      "san pham:,có giá:50000.0được giảm giá:10.0,thue_nhap_khau:5000.0\n",
      "san pham:đá ,có giá:10.0được giảm giá:2.0,thue_nhap_khau:1.0\n"
     ]
    }
   ],
   "source": [
    "# Code lab 5  bài 2 ở đây\n",
    "from sanpham import *\n",
    "\n",
    "sp1 = sanpham(\"\",\"\",\"\")\n",
    "sp2 = sanpham(\"\",\"\",\"\")\n",
    "sp1.nhap_thong_tin()\n",
    "sp1.xuat_thong_tin()\n",
    "sp2.nhap_thong_tin()\n",
    "sp2.xuat_thong_tin()\n"
   ]
  },
  {
   "cell_type": "markdown",
   "id": "0f2483fe",
   "metadata": {},
   "source": [
    "## Lab 5 - Bài 3"
   ]
  },
  {
   "cell_type": "code",
   "execution_count": null,
   "id": "7034990b",
   "metadata": {},
   "outputs": [],
   "source": [
    "# Code lab 5  bài 3 ở đây\n",
    "\n"
   ]
  },
  {
   "cell_type": "markdown",
   "id": "d36ea3d3",
   "metadata": {},
   "source": [
    "## Lab 5 - Bài 4"
   ]
  },
  {
   "cell_type": "code",
   "execution_count": 1,
   "id": "4c707ec1",
   "metadata": {},
   "outputs": [
    {
     "name": "stdout",
     "output_type": "stream",
     "text": [
      "Nhập thông tin sản phẩm 1:\n",
      "Nhập thông tin sản phẩm 2:\n",
      "\n",
      "Thông tin sản phẩm :\n",
      "san pham:1,có giá:1000000.0được giảm giá:3.0,thue_nhap_khau:100000.0\n",
      "san pham:Bánh bao,có giá:10000000.0được giảm giá:10.0,thue_nhap_khau:1000000.0\n"
     ]
    }
   ],
   "source": [
    "# code lab 5 bài 4 ở đây\n",
    "from sanpham import *\n",
    "print(\"Nhập thông tin sản phẩm 1:\")\n",
    "ten = input(\"Tên sản phẩm: \")\n",
    "gia = float(input(\"Giá sản phẩm: \"))\n",
    "giam = float(input(\"Phần trăm giảm giá: \"))\n",
    "print(\"Nhập thông tin sản phẩm 2:\")\n",
    "ten2 = input(\"Tên sản phẩm: \")\n",
    "gia2 = float(input(\"Giá sản phẩm: \"))\n",
    "giam2 = float(input(\"Phần trăm giảm giá: \"))\n",
    "sp1 = sanpham(ten, gia, giam)\n",
    "sp2 = sanpham(ten2, gia2, giam2)\n",
    "# xuất thông tin sản phẩm \n",
    "print(\"\\nThông tin sản phẩm :\")\n",
    "sp1.xuat_thong_tin()\n",
    "sp2.xuat_thong_tin()\n"
   ]
  },
  {
   "cell_type": "markdown",
   "id": "e2b41d4a",
   "metadata": {},
   "source": [
    "## Lab 5 - Bài 5: bài tập làm thêm"
   ]
  },
  {
   "cell_type": "code",
   "execution_count": null,
   "id": "0e0172f7",
   "metadata": {},
   "outputs": [],
   "source": [
    "# code lab 5  bài làm thêm ở đây "
   ]
  }
 ],
 "metadata": {
  "kernelspec": {
   "display_name": "Python 3",
   "language": "python",
   "name": "python3"
  },
  "language_info": {
   "codemirror_mode": {
    "name": "ipython",
    "version": 3
   },
   "file_extension": ".py",
   "mimetype": "text/x-python",
   "name": "python",
   "nbconvert_exporter": "python",
   "pygments_lexer": "ipython3",
   "version": "3.13.7"
  }
 },
 "nbformat": 4,
 "nbformat_minor": 5
}

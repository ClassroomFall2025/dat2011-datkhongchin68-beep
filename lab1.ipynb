{
 "cells": [
  {
   "cell_type": "markdown",
   "id": "fdeff819",
   "metadata": {},
   "source": [
    "# Sinh Viên thực hiện Lab 1 ở Đây"
   ]
  },
  {
   "cell_type": "markdown",
   "id": "acc5d7dc",
   "metadata": {},
   "source": [
    "## Lab 1 - Bài 1"
   ]
  },
  {
   "cell_type": "code",
   "execution_count": 2,
   "id": "001e0507",
   "metadata": {},
   "outputs": [
    {
     "name": "stdout",
     "output_type": "stream",
     "text": [
      "Hello\n",
      "toi la Le Diep Tan Dat\n",
      "toi song o TPhcm\n"
     ]
    }
   ],
   "source": [
    "# Code lab 1 bài 1 ở đây\n",
    "print(\"Hello\")\n",
    "print(\"toi la Le Diep Tan Dat\")\n",
    "print(\"toi song o TPhcm\")\n"
   ]
  },
  {
   "cell_type": "markdown",
   "id": "c0835310",
   "metadata": {},
   "source": [
    "## Lab 1 - Bài 2"
   ]
  },
  {
   "cell_type": "code",
   "execution_count": 3,
   "id": "fa9cb39f",
   "metadata": {},
   "outputs": [
    {
     "name": "stdout",
     "output_type": "stream",
     "text": [
      "Dien tich hinh chu nhat la:  200.0\n",
      "Chu vi hinh chu nhat la:  60.0\n"
     ]
    }
   ],
   "source": [
    "# Code lab 1  bài 2 ở đây\n",
    "chieu_dai = float(input(\"Nhap chieu dai: \"))\n",
    "chieu_rong = float(input(\"Nhap chieu rong: \"))\n",
    "dien_tich = chieu_dai * chieu_rong\n",
    "chu_vi = (chieu_dai + chieu_rong) * 2\n",
    "print(\"Dien tich hinh chu nhat la: \", dien_tich)\n",
    "print(\"Chu vi hinh chu nhat la: \", chu_vi)"
   ]
  },
  {
   "cell_type": "markdown",
   "id": "0f2483fe",
   "metadata": {},
   "source": [
    "## Lab 1 - Bài 3"
   ]
  },
  {
   "cell_type": "code",
   "execution_count": 4,
   "id": "7034990b",
   "metadata": {},
   "outputs": [
    {
     "name": "stdout",
     "output_type": "stream",
     "text": [
      "\"...\n",
      "Sống trong không gian, không hờn không oán trách\n",
      "Sống mỉm cười, với thử thách chông gai\n",
      "Sống vươn lên, theo kịp ánh ban mai\n",
      "Sống chan hòa, với những người chung sống.\n",
      "\n",
      "Sống là động, nhưng lòng luôn bất động\n",
      "Sống là thương, nhưng lòng chẳng vấn vương\n",
      "Sống vui buồn, đan lẫn mãi coi thường\n",
      "Tâm bất biến, giữa dòng đời vạn biến.\n",
      "...\"\n"
     ]
    }
   ],
   "source": [
    "# Code lab 1  bài 3 ở đây\n",
    "song = \"Sống\"\n",
    "\n",
    "print(\"\\\"...\")\n",
    "print(f\"{song} trong không gian, không hờn không oán trách\")\n",
    "print(f\"{song} mỉm cười, với thử thách chông gai\")\n",
    "print(f\"{song} vươn lên, theo kịp ánh ban mai\")\n",
    "print(f\"{song} chan hòa, với những người chung sống.\")\n",
    "print()\n",
    "print(f\"{song} là động, nhưng lòng luôn bất động\")\n",
    "print(f\"{song} là thương, nhưng lòng chẳng vấn vương\")\n",
    "print(f\"{song} vui buồn, đan lẫn mãi coi thường\")\n",
    "print(\"Tâm bất biến, giữa dòng đời vạn biến.\")\n",
    "print(\"...\\\"\")\n"
   ]
  },
  {
   "cell_type": "markdown",
   "id": "d36ea3d3",
   "metadata": {},
   "source": [
    "## Lab 1 - Bài 4"
   ]
  },
  {
   "cell_type": "code",
   "execution_count": 6,
   "id": "4c707ec1",
   "metadata": {},
   "outputs": [
    {
     "name": "stdout",
     "output_type": "stream",
     "text": [
      "Delta =  -196.0\n",
      "Căn delta =  14.0\n"
     ]
    }
   ],
   "source": [
    "# code lab 1 bài 4 ở đây\n",
    "import math \n",
    "a = float(input(\"Nhap a: \"))\n",
    "b = float(input(\"Nhap b: \"))\n",
    "c= float(input(\"Nhap c: \"))\n",
    "delta = b*b - 4*a*c\n",
    "print(\"Delta = \", delta)\n",
    "print(\"Căn delta = \", math.sqrt(abs(delta)))\n",
    "      "
   ]
  },
  {
   "cell_type": "markdown",
   "id": "e2b41d4a",
   "metadata": {},
   "source": [
    "## Lab 1 - Bài 5: bài tập làm thêm"
   ]
  },
  {
   "cell_type": "code",
   "execution_count": null,
   "id": "0e0172f7",
   "metadata": {},
   "outputs": [
    {
     "name": "stdout",
     "output_type": "stream",
     "text": [
      "Nhập số a để tính:\n",
      "Nhập số b để tính:\n",
      "1. Phép tính cơ bản  (+,-,*,/)\n",
      "a + b = 30.0\n",
      "a - b = -10.0\n",
      "a * b = 200.0\n",
      "a / b = 0.5\n",
      "Nhập X để tính lũy thừa\n",
      "Nhập Y để tính lũy thừa\n",
      "2. Tính lũy thừa x^y\n",
      "x^y = 1e+20\n",
      "Nhập X để tính căn bậc hai\n",
      "3. Tính căn bậc hai\n",
      "Căn bậc hai của x = 1.4142135623730951\n",
      "Nhập a để tính hàm lượng giác\n",
      "4. Tính hàm lượng giác sin, cos, tan\n",
      "sin(a) = 0.1411200080598672\n",
      "cos(a) = -0.9899924966004454\n",
      "tan(a) = -0.1425465430742778\n",
      "Nhập a để tính logarit\n",
      "Nhập b để tính logarit cơ số tùy chọn\n",
      "5. Tính logarit cơ số 10, ln, log cơ số tùy chọn\n",
      "log cơ số 8.0 của a = 0.6666666666666667\n",
      "log10(a) = 0.6020599913279624\n",
      "ln(a) = 1.3862943611198906\n"
     ]
    }
   ],
   "source": [
    "# code lab 1  bài làm thêm ở đây \n",
    "import math\n",
    "print(\"Nhập số a để tính:\")\n",
    "a = float(input(\"Nhập số a để tính: \"))\n",
    "print(\"Nhập số b để tính:\")\n",
    "b = float(input(\"Nhập số b để tính: \"))\n",
    "print(\"1. Phép tính cơ bản  (+,-,*,/)\")\n",
    "cong = a + b\n",
    "tru = a - b\n",
    "nhan = a * b\n",
    "chia = a / b\n",
    "print(\"a + b =\", cong)\n",
    "print(\"a - b =\", tru)\n",
    "print(\"a * b =\", nhan)\n",
    "print(\"a / b =\", chia)\n",
    "print(\"Nhập X để tính lũy thừa\")\n",
    "x = float(input(\"Nhập số x để tính lũy thừa: \"))\n",
    "print(\"Nhập Y để tính lũy thừa\")\n",
    "y = float(input(\"Nhập số y để tính lũy thừa: \"))\n",
    "print(\"2. Tính lũy thừa x^y\")\n",
    "luy_thua = a ** b\n",
    "print(\"x^y =\", luy_thua)\n",
    "print(\"Nhập X để tính căn bậc hai\")\n",
    "x = float(input(\"Nhập số x để tính căn bậc hai: \"))\n",
    "print(\"3. Tính căn bậc hai\")\n",
    "can_bac_hai = math.sqrt(x)\n",
    "print(\"Căn bậc hai của x =\", can_bac_hai)\n",
    "print(\"Nhập a để tính hàm lượng giác\")\n",
    "a = float(input(\"Nhập số a để tính hàm lượng giác: \"))\n",
    "print(\"4. Tính hàm lượng giác sin, cos, tan\")\n",
    "sin_a = math.sin(a)\n",
    "cos_a = math.cos(a)\n",
    "tan_a = math.tan(a)\n",
    "print(\"sin(a) =\", sin_a)\n",
    "print(\"cos(a) =\", cos_a)\n",
    "print(\"tan(a) =\", tan_a)\n",
    "print(\"Nhập a để tính logarit\")\n",
    "a = float(input(\"Nhập số a để tính logarit: \"))\n",
    "print(\"Nhập b để tính logarit cơ số tùy chọn\")\n",
    "b = float(input(\"Nhập số b để tính logarit cơ số tùy chọn: \"))\n",
    "print(\"5. Tính logarit cơ số 10, ln, log cơ số tùy chọn\")\n",
    "log10_a = math.log10(a)\n",
    "ln_a = math.log(a)\n",
    "logb_a = math.log(a, b)\n",
    "print(\"log cơ số\", b, \"của a =\", logb_a)\n",
    "print(\"log10(a) =\", log10_a)\n",
    "print(\"ln(a) =\", ln_a)\n"
   ]
  }
 ],
 "metadata": {
  "kernelspec": {
   "display_name": "Python 3",
   "language": "python",
   "name": "python3"
  },
  "language_info": {
   "codemirror_mode": {
    "name": "ipython",
    "version": 3
   },
   "file_extension": ".py",
   "mimetype": "text/x-python",
   "name": "python",
   "nbconvert_exporter": "python",
   "pygments_lexer": "ipython3",
   "version": "3.13.7"
  }
 },
 "nbformat": 4,
 "nbformat_minor": 5
}
